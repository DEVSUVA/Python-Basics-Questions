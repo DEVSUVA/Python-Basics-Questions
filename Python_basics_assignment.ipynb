{
  "nbformat": 4,
  "nbformat_minor": 0,
  "metadata": {
    "colab": {
      "provenance": []
    },
    "kernelspec": {
      "name": "python3",
      "display_name": "Python 3"
    },
    "language_info": {
      "name": "python"
    }
  },
  "cells": [
    {
      "cell_type": "code",
      "execution_count": null,
      "metadata": {
        "id": "ySbrh8_Oe63w"
      },
      "outputs": [],
      "source": []
    },
    {
      "cell_type": "markdown",
      "source": [
        " 1. What is Python, and why is it popular?\n",
        " Ans> Python is a high-level, interpreted programming language.\n",
        "      It is popular because it is easy to learn and it has huge libraries. And one of the most important thing is, it is used in various fileds like web development, data science, AI, automation, scripting, and more\n",
        " 2. What is an interpreter in Python?\n",
        " Ans> The interpreter in Python is the programme that converts python line     by  line and converts it into machine-readable instructions\n",
        " 3. What are pre-defined keywords in Python?\n",
        " Ans> Pre-defined keywords are some key-words with special meaning like - if, else, elif.\n",
        " 4. Can keywords be used as variable names?\n",
        " Ans. No, keywords can not be used as variable names.\n",
        " 5. What is mutability in Python?\n",
        " Ans> Mutability in python means whether an object’s or variables value can be modified after creation.\n",
        " 6. Why are lists mutable, but tuples are immutable?\n",
        " Ans> Lists are mutable becasue value of lists can be modified, but tuples are immutable because value of tuples can not be modified.\n",
        " 7. What is the difference between “==” and “is” operators in Python?\n",
        " Ans> '==' -> This Compares values\n",
        "      'is' -> This means objects are in same memory.\n",
        " 8. What are logical operators in Python?\n",
        " Ans> \"and\". \"or\", \"not\" these are logical operators in Python.\n",
        " 9. What is type casting in Python?\n",
        " Ans> Type casting is converting one data type into another data type\n",
        " 10. What is the difference between implicit and explicit type casting?\n",
        " Ans> implicit type casting:- It is the type casting which is done by python automatically.\n",
        "      explicit type casting:- It is the type casting which is done manually.\n",
        " 11. What is the purpose of conditional statements in Python?\n",
        " Ans> The conditional statements in Python are used to allow decision-making in code.\n",
        " 12. How does the elif statement work?\n",
        " Ans> When If statement does not satisfy the logic or returns False or similar then elif statements works.\n",
        " 13. What is the difference between for and while loops?\n",
        " Ans> for loop is used when we know the number the iteration and while loops is basically used when we dont know the number of iteration.\n",
        " 14. Describe a scenario where a while loop is more suitable than a for loop?\n",
        " Ans When the number of iterations in unknown then while loops is suitable than for loop."
      ],
      "metadata": {
        "id": "FX29h4YpffLN"
      }
    },
    {
      "cell_type": "code",
      "source": [
        "# 1. Write a Python program to print \"Hello, World!\n",
        "print(\"Hello, World!\")"
      ],
      "metadata": {
        "colab": {
          "base_uri": "https://localhost:8080/"
        },
        "id": "EBmhbw2blNMG",
        "outputId": "6e719c97-1202-40e3-fdd3-eacf83d2275a"
      },
      "execution_count": 1,
      "outputs": [
        {
          "output_type": "stream",
          "name": "stdout",
          "text": [
            "Hello, World!\n"
          ]
        }
      ]
    },
    {
      "cell_type": "code",
      "source": [
        "# 2.  Write a Python program that displays your name and age\n",
        "name = input(\"Enter your name: \")\n",
        "age = int(input(\"Enter your age: \"))\n",
        "print(f\"My name is {name} and my age is {age}\")"
      ],
      "metadata": {
        "colab": {
          "base_uri": "https://localhost:8080/"
        },
        "id": "2hOHj4EVlVNv",
        "outputId": "ef02aed4-9005-481b-a08b-d18b5db3fa28"
      },
      "execution_count": 2,
      "outputs": [
        {
          "output_type": "stream",
          "name": "stdout",
          "text": [
            "Enter your name: Suvankar Debnath\n",
            "Enter your age: 26\n",
            "My name is Suvankar Debnath and my age is 26\n"
          ]
        }
      ]
    },
    {
      "cell_type": "code",
      "source": [
        "# 3. Write code to print all the pre-defined keywords in Python using the keyword library\n",
        "import keyword\n",
        "keyword= keyword.kwlist\n",
        "print(keyword)"
      ],
      "metadata": {
        "colab": {
          "base_uri": "https://localhost:8080/"
        },
        "id": "yZm7LpJUlvVT",
        "outputId": "558c3ec4-71f2-4228-b059-0f368db208d6"
      },
      "execution_count": 3,
      "outputs": [
        {
          "output_type": "stream",
          "name": "stdout",
          "text": [
            "['False', 'None', 'True', 'and', 'as', 'assert', 'async', 'await', 'break', 'class', 'continue', 'def', 'del', 'elif', 'else', 'except', 'finally', 'for', 'from', 'global', 'if', 'import', 'in', 'is', 'lambda', 'nonlocal', 'not', 'or', 'pass', 'raise', 'return', 'try', 'while', 'with', 'yield']\n"
          ]
        }
      ]
    },
    {
      "cell_type": "code",
      "source": [
        "# 4.  Write a program that checks if a given word is a Python keyword.\n",
        "import keyword\n",
        "word = input(\"Enter a word: \")\n",
        "if keyword.iskeyword(word):\n",
        "    print(f\"{word} is a python keyword\")\n",
        "else:\n",
        "    print(f\"{word} is not a python keyword\")"
      ],
      "metadata": {
        "colab": {
          "base_uri": "https://localhost:8080/"
        },
        "id": "4oJijOwEmp5v",
        "outputId": "6d821994-44b4-48ad-b011-aa2eea6f815e"
      },
      "execution_count": 4,
      "outputs": [
        {
          "output_type": "stream",
          "name": "stdout",
          "text": [
            "Enter a word: if\n",
            "if is a python keyword\n"
          ]
        }
      ]
    },
    {
      "cell_type": "code",
      "source": [
        "# 5.. Create a list and tuple in Python, and demonstrate how attempting to change an element works differently for each.\n",
        "from logging import exception\n",
        "\n",
        "my_list = [10, 20, 30]\n",
        "print(\"Original List:\", my_list)\n",
        "my_list[1] = 200\n",
        "print(\"New List:\", my_list)\n",
        "my_tuple = (10, 20, 30)\n",
        "print(\"Original Tuple:\", my_tuple)\n",
        "try:\n",
        "    my_tuple[1] = 200   #here i have used exception handling to show that it creates an error which does not happens in case of list\n",
        "except TypeError as e:\n",
        "    print(\"Error when modifying tuple:\", e)"
      ],
      "metadata": {
        "colab": {
          "base_uri": "https://localhost:8080/"
        },
        "id": "Vi8s7206m_Bh",
        "outputId": "4c44cb6b-7f33-4900-c099-5e9f6fea7d79"
      },
      "execution_count": 5,
      "outputs": [
        {
          "output_type": "stream",
          "name": "stdout",
          "text": [
            "Original List: [10, 20, 30]\n",
            "New List: [10, 200, 30]\n",
            "Original Tuple: (10, 20, 30)\n",
            "Error when modifying tuple: 'tuple' object does not support item assignment\n"
          ]
        }
      ]
    },
    {
      "cell_type": "code",
      "source": [
        "# 6. Write a function to demonstrate the behavior of mutable and immutable arguments.\n",
        "def modify_values(a, b_list):\n",
        "    a += 10\n",
        "    b_list.append(10)\n",
        "    print(\"Inside function:\")\n",
        "    print(\"a =\", a)\n",
        "    print(\"b_list =\", b_list)\n",
        "\n",
        "num = 6475\n",
        "numbers = [46468,\"Suva\",True]\n",
        "\n",
        "modify_values(num, numbers)\n",
        "print(\"\\nOutside function:\")\n",
        "print(\"num =\", num)   # Here it is an unchanged because it is immutable\n",
        "print(\"numbers =\", numbers) # Here it is an changed because it is mutable"
      ],
      "metadata": {
        "colab": {
          "base_uri": "https://localhost:8080/"
        },
        "id": "ziy4VTmvoRXf",
        "outputId": "e3686f56-a345-4f42-d266-95fad94d08a9"
      },
      "execution_count": 6,
      "outputs": [
        {
          "output_type": "stream",
          "name": "stdout",
          "text": [
            "Inside function:\n",
            "a = 6485\n",
            "b_list = [46468, 'Suva', True, 10]\n",
            "\n",
            "Outside function:\n",
            "num = 6475\n",
            "numbers = [46468, 'Suva', True, 10]\n"
          ]
        }
      ]
    },
    {
      "cell_type": "code",
      "source": [
        "#  7. Write a program that performs basic arithmetic operations on two user-input numbers.\n",
        "a = float(input(\"Enter first number: \"))\n",
        "b = float(input(\"Enter second number: \"))\n",
        "\n",
        "print(\"Addition:\", a + b)\n",
        "print(\"Subtraction:\", a - b)\n",
        "print(\"Multiplication:\", a * b)\n",
        "print(\"Division:\", a / b)\n",
        "print(\"Floor Division:\", a // b)\n",
        "print(\"Modulus:\", a % b)\n",
        "print(\"Power:\", a ** b)"
      ],
      "metadata": {
        "colab": {
          "base_uri": "https://localhost:8080/"
        },
        "id": "9Y8rjLJxqIIX",
        "outputId": "238c448d-1a1b-431f-d5e5-5907b2355f31"
      },
      "execution_count": 7,
      "outputs": [
        {
          "output_type": "stream",
          "name": "stdout",
          "text": [
            "Enter first number: 48\n",
            "Enter second number: 35\n",
            "Addition: 83.0\n",
            "Subtraction: 13.0\n",
            "Multiplication: 1680.0\n",
            "Division: 1.3714285714285714\n",
            "Floor Division: 1.0\n",
            "Modulus: 13.0\n",
            "Power: 6.973379619634912e+58\n"
          ]
        }
      ]
    },
    {
      "cell_type": "code",
      "source": [
        "# 8.Write a program to demonstrate the use of logical operators\n",
        "age = int(input(\"enter a value\"))\n",
        "if age>0 and age<12:\n",
        "  print(\"this is a child\")\n",
        "elif age>12 and age<18:\n",
        "  print(\"this is a teenager\")\n",
        "elif age>18 and age<30:\n",
        "  print(\"this is a young adult\")\n",
        "elif not (age == 30):\n",
        "  print(\"you are not eligible\")\n",
        "elif age>31 or age==31:\n",
        "  print(\"you are eligible\")"
      ],
      "metadata": {
        "colab": {
          "base_uri": "https://localhost:8080/"
        },
        "id": "72djz1eAqXba",
        "outputId": "af43130f-75ca-4f67-c508-a1dcb5a0532a"
      },
      "execution_count": 8,
      "outputs": [
        {
          "output_type": "stream",
          "name": "stdout",
          "text": [
            "enter a value45\n",
            "you are not eligible\n"
          ]
        }
      ]
    },
    {
      "cell_type": "code",
      "source": [
        "# 9. Write a Python program to convert user input from string to integer, float, and boolean types.\n",
        "user_input = input(\"Enter a value: \")\n",
        "\n",
        "int_value = int(user_input)\n",
        "float_value = float(user_input)\n",
        "bool_value = bool(user_input)\n",
        "\n",
        "print(\"As Integer:\", int_value)\n",
        "print(\"As Float:\", float_value)\n",
        "print(\"As Boolean:\", bool_value)"
      ],
      "metadata": {
        "colab": {
          "base_uri": "https://localhost:8080/"
        },
        "id": "bOlwWJXGsIzx",
        "outputId": "5b8c0e4e-3a05-4de6-d445-5bba8f49f228"
      },
      "execution_count": 9,
      "outputs": [
        {
          "output_type": "stream",
          "name": "stdout",
          "text": [
            "Enter a value: 78\n",
            "As Integer: 78\n",
            "As Float: 78.0\n",
            "As Boolean: True\n"
          ]
        }
      ]
    },
    {
      "cell_type": "code",
      "source": [
        "#  10. Write code to demonstrate type casting with list elements.\n",
        "str_list = ['10', '20', '30', '40']\n",
        "int_list = [int(x) for x in str_list]\n",
        "print(\"String List:\", str_list)\n",
        "print(\"Integer List:\", int_list)"
      ],
      "metadata": {
        "colab": {
          "base_uri": "https://localhost:8080/"
        },
        "id": "Ri2vrx2Bs9_h",
        "outputId": "1aff2c41-a75f-4962-f8be-1a817e2f6ad8"
      },
      "execution_count": 10,
      "outputs": [
        {
          "output_type": "stream",
          "name": "stdout",
          "text": [
            "String List: ['10', '20', '30', '40']\n",
            "Integer List: [10, 20, 30, 40]\n"
          ]
        }
      ]
    },
    {
      "cell_type": "code",
      "source": [
        "#  11. Write a program that checks if a number is positive, negative, or zero.\n",
        "num = float(input(\"Enter a number: \"))\n",
        "if num > 0:\n",
        "    print(\"Positive number\")\n",
        "elif num < 0:\n",
        "    print(\"Negative number\")\n",
        "else:\n",
        "    print(\"Zero\")"
      ],
      "metadata": {
        "colab": {
          "base_uri": "https://localhost:8080/"
        },
        "id": "E5FfJDV-vvlq",
        "outputId": "655ebc1c-84d4-48a4-e3b2-e97131b753ac"
      },
      "execution_count": 11,
      "outputs": [
        {
          "output_type": "stream",
          "name": "stdout",
          "text": [
            "Enter a number: 163\n",
            "Positive number\n"
          ]
        }
      ]
    },
    {
      "cell_type": "code",
      "source": [
        "# 12. Write a for loop to print numbers from 1 to 10\n",
        "for i in range(1, 11):\n",
        "    print(i)"
      ],
      "metadata": {
        "colab": {
          "base_uri": "https://localhost:8080/"
        },
        "id": "nAPyNzAtwBxj",
        "outputId": "1e602da9-81f2-45ab-ba92-0f41a0b3d237"
      },
      "execution_count": 12,
      "outputs": [
        {
          "output_type": "stream",
          "name": "stdout",
          "text": [
            "1\n",
            "2\n",
            "3\n",
            "4\n",
            "5\n",
            "6\n",
            "7\n",
            "8\n",
            "9\n",
            "10\n"
          ]
        }
      ]
    },
    {
      "cell_type": "code",
      "source": [
        "#  13. Write a Python program to find the sum of all even numbers between 1 and 50\n",
        "sum = 0\n",
        "for i in range(1, 51):\n",
        "    if i % 2 == 0:\n",
        "        sum += i\n",
        "print(\"Sum of even numbers between 1 and 50:\", sum)"
      ],
      "metadata": {
        "colab": {
          "base_uri": "https://localhost:8080/"
        },
        "id": "KI3rYMb5wTWL",
        "outputId": "667370df-d724-4816-a931-5de6a03d9c0b"
      },
      "execution_count": 13,
      "outputs": [
        {
          "output_type": "stream",
          "name": "stdout",
          "text": [
            "Sum of even numbers between 1 and 50: 650\n"
          ]
        }
      ]
    },
    {
      "cell_type": "code",
      "source": [
        "# 14.  Write a program to reverse a string using a while loop.\n",
        "text = input(\"Enter a string: \")\n",
        "reversed_text = \"\"\n",
        "i = len(text) - 1\n",
        "\n",
        "while i >= 0:\n",
        "    reversed_text += text[i]\n",
        "    i -= 1\n",
        "\n",
        "print(\"Reversed string:\", reversed_text)"
      ],
      "metadata": {
        "colab": {
          "base_uri": "https://localhost:8080/"
        },
        "id": "wvMH9MiywbfK",
        "outputId": "0546b083-8a49-4f88-c58c-c70ae3c27a4d"
      },
      "execution_count": 14,
      "outputs": [
        {
          "output_type": "stream",
          "name": "stdout",
          "text": [
            "Enter a string: suva\n",
            "Reversed string: avus\n"
          ]
        }
      ]
    },
    {
      "cell_type": "code",
      "source": [
        "# 15.  Write a Python program to calculate the factorial of a number provided by the user using a while loop\n",
        "num = int(input(\"Enter a number: \"))\n",
        "factorial = 1\n",
        "i = 1\n",
        "\n",
        "while i <= num:\n",
        "    factorial *= i\n",
        "    i += 1\n",
        "\n",
        "print(\"Factorial of\", num, \"is\", factorial)"
      ],
      "metadata": {
        "colab": {
          "base_uri": "https://localhost:8080/"
        },
        "id": "5Ko4CJrww-hS",
        "outputId": "a9af86cc-bb2e-4f9c-fbdd-d970e9cb984a"
      },
      "execution_count": 15,
      "outputs": [
        {
          "output_type": "stream",
          "name": "stdout",
          "text": [
            "Enter a number: 5\n",
            "Factorial of 5 is 120\n"
          ]
        }
      ]
    }
  ]
}